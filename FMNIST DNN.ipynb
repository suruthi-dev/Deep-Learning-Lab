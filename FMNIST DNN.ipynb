{
 "cells": [
  {
   "cell_type": "code",
   "execution_count": 1,
   "metadata": {
    "colab": {
     "base_uri": "https://localhost:8080/"
    },
    "id": "Zk4RZwnQ021T",
    "outputId": "5a3eb24f-8545-4bb8-e42e-64d701b1dbdd"
   },
   "outputs": [
    {
     "name": "stdout",
     "output_type": "stream",
     "text": [
      "Requirement already satisfied: keras-tuner in e:\\anaconda3\\lib\\site-packages (1.3.5)\n",
      "Requirement already satisfied: packaging in e:\\anaconda3\\lib\\site-packages (from keras-tuner) (22.0)\n",
      "Requirement already satisfied: requests in e:\\anaconda3\\lib\\site-packages (from keras-tuner) (2.28.1)\n",
      "Requirement already satisfied: kt-legacy in e:\\anaconda3\\lib\\site-packages (from keras-tuner) (1.0.5)\n",
      "Requirement already satisfied: charset-normalizer<3,>=2 in e:\\anaconda3\\lib\\site-packages (from requests->keras-tuner) (2.0.4)\n",
      "Requirement already satisfied: idna<4,>=2.5 in e:\\anaconda3\\lib\\site-packages (from requests->keras-tuner) (3.4)\n",
      "Requirement already satisfied: urllib3<1.27,>=1.21.1 in e:\\anaconda3\\lib\\site-packages (from requests->keras-tuner) (1.26.14)\n",
      "Requirement already satisfied: certifi>=2017.4.17 in e:\\anaconda3\\lib\\site-packages (from requests->keras-tuner) (2022.12.7)\n",
      "Note: you may need to restart the kernel to use updated packages.\n"
     ]
    },
    {
     "name": "stderr",
     "output_type": "stream",
     "text": [
      "\n",
      "[notice] A new release of pip is available: 23.2 -> 23.2.1\n",
      "[notice] To update, run: python.exe -m pip install --upgrade pip\n"
     ]
    }
   ],
   "source": [
    "pip install keras-tuner\n"
   ]
  },
  {
   "cell_type": "code",
   "execution_count": null,
   "metadata": {
    "colab": {
     "base_uri": "https://localhost:8080/"
    },
    "id": "rocEwFi51AXm",
    "outputId": "902c216c-60ba-41e7-da23-74fa622fb2e3"
   },
   "outputs": [],
   "source": [
    "import tensorflow as tf\n",
    "from tensorflow.keras import layers\n",
    "from kerastuner.tuners import RandomSearch\n"
   ]
  },
  {
   "cell_type": "code",
   "execution_count": null,
   "metadata": {
    "colab": {
     "base_uri": "https://localhost:8080/"
    },
    "id": "LXO5U1VG1AZ_",
    "outputId": "657c4304-bd1a-4df1-cc53-19e6695b4b3c"
   },
   "outputs": [],
   "source": [
    "(x_train, y_train), (x_test, y_test) = tf.keras.datasets.fashion_mnist.load_data()\n",
    "x_train = x_train / 255.0\n",
    "x_test = x_test / 255.0\n"
   ]
  },
  {
   "cell_type": "code",
   "execution_count": null,
   "metadata": {
    "id": "Az3TRU0I1AcX"
   },
   "outputs": [],
   "source": [
    "def build_model(hp):\n",
    "    model = tf.keras.Sequential()\n",
    "    model.add(layers.Flatten(input_shape=(28, 28)))\n",
    "\n",
    "    # Define hyperparameters for hidden layers\n",
    "    for i in range(hp.Int('num_layers', 2, 7)):\n",
    "        model.add(layers.Dense(units=hp.Int('units_' + str(i), 128, 512, 32),\n",
    "                               activation='relu'))\n",
    "\n",
    "    model.add(layers.Dense(10, activation='softmax'))\n",
    "\n",
    "\n",
    "\n",
    "    # Compile the model\n",
    "    model.compile(optimizer='adam',\n",
    "                  loss='sparse_categorical_crossentropy',\n",
    "                  metrics=['accuracy'])\n",
    "\n",
    "    total_trainable_params = sum([tf.keras.backend.count_params(w) for w in model.trainable_weights])\n",
    "\n",
    "    return model, total_trainable_params\n"
   ]
  },
  {
   "cell_type": "code",
   "execution_count": null,
   "metadata": {
    "id": "G61AEJpl1Mms"
   },
   "outputs": [],
   "source": [
    "! mkdir keras_tuner_results"
   ]
  },
  {
   "cell_type": "code",
   "execution_count": null,
   "metadata": {
    "id": "W_4x3tu01Mh0"
   },
   "outputs": [],
   "source": [
    "! mkdir keras_tuner_results/fashion_mnist_tuning"
   ]
  },
  {
   "cell_type": "code",
   "execution_count": null,
   "metadata": {
    "id": "RO8HLj5V1AfJ"
   },
   "outputs": [],
   "source": [
    "\n",
    "tuner = RandomSearch(\n",
    "    build_model,\n",
    "    objective='val_accuracy',\n",
    "    max_trials=5,\n",
    "    directory='keras_tuner_results',\n",
    "    project_name='fashion_mnist_tuning'\n",
    ")\n"
   ]
  },
  {
   "cell_type": "code",
   "execution_count": null,
   "metadata": {
    "id": "062LDi5R1AiC"
   },
   "outputs": [],
   "source": [
    "tuner.search(x_train, y_train, epochs=5, validation_split=0.1)\n"
   ]
  },
  {
   "cell_type": "code",
   "execution_count": null,
   "metadata": {
    "colab": {
     "base_uri": "https://localhost:8080/"
    },
    "id": "xRocTkiY1yKz",
    "outputId": "b8f76a18-ccba-4510-f960-b6caf4ee0b29"
   },
   "outputs": [],
   "source": [
    "# ... (previous code to perform hyperparameter search) ...\n",
    "\n",
    "# Get the best hyperparameters and build the final model\n",
    "best_hps = tuner.get_best_hyperparameters(num_trials=1)[0]\n",
    "model, total_trainable_params = tuner.hypermodel.build(best_hps)\n",
    "\n",
    "print(\"Total trainable parameters:\", total_trainable_params)\n"
   ]
  },
  {
   "cell_type": "code",
   "execution_count": null,
   "metadata": {
    "colab": {
     "base_uri": "https://localhost:8080/"
    },
    "id": "MXcoVvTe1Akp",
    "outputId": "b07b4ed9-fe26-462e-bf44-cea7605cbe7c"
   },
   "outputs": [],
   "source": [
    "history = model.fit(x_train, y_train, epochs=20, validation_split=0.1)\n"
   ]
  },
  {
   "cell_type": "code",
   "execution_count": null,
   "metadata": {},
   "outputs": [],
   "source": []
  },
  {
   "cell_type": "code",
   "execution_count": null,
   "metadata": {
    "id": "aEqS1xKy_M-R"
   },
   "outputs": [],
   "source": [
    "import matplotlib.pyplot as plt\n",
    "def accuracy(model):\n",
    "  plt.plot(model.history['accuracy'])\n",
    "  plt.plot(model.history['val_accuracy'])\n",
    "  plt.title(f\"{model}  Accuracy \")\n",
    "  plt.ylabel(\"Accuracy\")\n",
    "  plt.xlabel(\"Epochs\")\n",
    "  plt.legend(['Train','Test'],loc='best')\n",
    "  plt.show()\n",
    "\n",
    "\n",
    "def loss_plot(model):\n",
    "  plt.plot(model.history['loss'])\n",
    "  plt.plot(model.history['val_loss'])\n",
    "  plt.title(f\"{model} Loss \")\n",
    "  plt.ylabel(\"Loss\")\n",
    "  plt.xlabel(\"Epochs\")\n",
    "  plt.legend(['Train','Test'],loc='best')\n",
    "  plt.show()\n"
   ]
  },
  {
   "cell_type": "code",
   "execution_count": null,
   "metadata": {
    "colab": {
     "base_uri": "https://localhost:8080/",
     "height": 472
    },
    "id": "9PqHjptL_Q75",
    "outputId": "d54306d7-ee00-4981-813e-ad064f96f486"
   },
   "outputs": [],
   "source": [
    "accuracy(history)"
   ]
  },
  {
   "cell_type": "code",
   "execution_count": null,
   "metadata": {
    "colab": {
     "base_uri": "https://localhost:8080/",
     "height": 472
    },
    "id": "fGmEHSd8_VCX",
    "outputId": "b040d4ce-5778-41c3-ee0c-7ea00706e96d"
   },
   "outputs": [],
   "source": [
    "loss_plot(history)"
   ]
  },
  {
   "cell_type": "code",
   "execution_count": null,
   "metadata": {
    "colab": {
     "base_uri": "https://localhost:8080/"
    },
    "id": "tJH2apE-1UQ_",
    "outputId": "c4c75d90-ba5c-4bf0-9096-3a9f4d2223c6"
   },
   "outputs": [],
   "source": [
    "import matplotlib.pyplot as plt\n",
    "\n",
    "# Retrieve the results of the tuning process\n",
    "tuner_results = tuner.results_summary()\n",
    "\n",
    "\n"
   ]
  },
  {
   "cell_type": "code",
   "execution_count": null,
   "metadata": {
    "colab": {
     "base_uri": "https://localhost:8080/",
     "height": 487
    },
    "id": "VWhZu_Ck6eCD",
    "outputId": "7bb6041e-b8f2-4be6-bad6-03bd3b11a905"
   },
   "outputs": [],
   "source": [
    "import matplotlib.pyplot as plt\n",
    "\n",
    "# Data for each trial\n",
    "trial_indices = [2, 0, 3, 1, 4]\n",
    "validation_accuracy = [0.886, 0.885, 0.880, 0.878, 0.871]\n",
    "\n",
    "# Plot the bar graph\n",
    "plt.figure(figsize=(8, 6))\n",
    "plt.bar(trial_indices, validation_accuracy)\n",
    "plt.xlabel('Trial')\n",
    "plt.ylabel('Validation Accuracy')\n",
    "plt.title('Validation Accuracy for Each Trial')\n",
    "plt.xticks(trial_indices, ['Trial 2', 'Trial 0', 'Trial 3', 'Trial 1', 'Trial 4'])\n",
    "plt.ylim(0.85, 0.89)  # Set the y-axis limits to better visualize the differences\n",
    "plt.tight_layout()\n",
    "plt.show()\n"
   ]
  },
  {
   "cell_type": "code",
   "execution_count": null,
   "metadata": {
    "colab": {
     "base_uri": "https://localhost:8080/",
     "height": 435
    },
    "id": "-jis1muD6eEp",
    "outputId": "a9f0a988-3e2e-41e6-89eb-bcc848f0dea5"
   },
   "outputs": [],
   "source": [
    "import matplotlib.pyplot as plt\n",
    "\n",
    "# Data for each trial\n",
    "trial_info = {\n",
    "    'Trial 2': [288, 192, 512, 480, 288, 416],\n",
    "    'Trial 0': [448, 288, 128, 128, 128, 128],\n",
    "    'Trial 3': [256, 224, 160, 160, 192, 192],\n",
    "    'Trial 1': [256, 160, 128, 512, 256, 352],\n",
    "    'Trial 4': [288, 128, 288, 352, 192, 352]\n",
    "}\n",
    "\n",
    "# Extract the validation accuracy for each trial\n",
    "validation_accuracy = [0.886, 0.885, 0.880, 0.878, 0.871]\n",
    "\n",
    "# Plot the bar graph\n",
    "plt.figure(figsize=(12, 8))\n",
    "for i, (trial, units) in enumerate(trial_info.items()):\n",
    "    plt.bar(range(len(units)), units, label=f'{trial}, Score: {validation_accuracy[i]}')\n",
    "\n",
    "plt.xlabel('Hidden Layers')\n",
    "plt.ylabel('Number of Hidden Units')\n",
    "plt.title('Number of Hidden Units in Each Hidden Layer for Each Trial')\n",
    "plt.xticks(range(len(units)), ['Layer 1', 'Layer 2', 'Layer 3', 'Layer 4', 'Layer 5', 'Layer 6'])\n",
    "plt.legend()\n",
    "plt.tight_layout()\n",
    "plt.show()\n"
   ]
  },
  {
   "cell_type": "code",
   "execution_count": null,
   "metadata": {
    "colab": {
     "base_uri": "https://localhost:8080/",
     "height": 432
    },
    "id": "TBn7-IA06eM3",
    "outputId": "501b1070-4411-4553-be1b-d386350f6f46"
   },
   "outputs": [],
   "source": [
    "for i, trial in enumerate(best_trials):\n",
    "    model, num_layers = tuner.hypermodel.build(trial.hyperparameters)\n",
    "    history = model.fit(x_train, y_train, epochs=20, validation_split=0.1, verbose=0)\n",
    "\n",
    "    # Accuracy plot\n",
    "    plt.subplot(1, 2, 1)\n",
    "    plt.plot(history.history['accuracy'], label=f'Trial {i+1} (Layers: {num_layers})')\n",
    "    plt.xlabel('Epoch')\n",
    "    plt.ylabel('Accuracy')\n",
    "    plt.title('Accuracy vs. Epoch')\n",
    "    plt.legend()\n",
    "\n",
    "    # Loss plot\n",
    "    plt.subplot(1, 2, 2)\n",
    "    plt.plot(history.history['loss'], label=f'Trial {i+1} (Layers: {num_layers})')\n",
    "    plt.xlabel('Epoch')\n",
    "    plt.ylabel('Loss')\n",
    "    plt.title('Loss vs. Epoch')\n",
    "    plt.legend()\n",
    "\n",
    "plt.tight_layout()\n",
    "plt.show()\n",
    "\n"
   ]
  },
  {
   "cell_type": "code",
   "execution_count": null,
   "metadata": {
    "id": "pmEXsz3QAGiW"
   },
   "outputs": [],
   "source": [
    "! mkdir logs"
   ]
  },
  {
   "cell_type": "code",
   "execution_count": null,
   "metadata": {
    "id": "CzHox1TVBM0q"
   },
   "outputs": [],
   "source": [
    "!kill 13258"
   ]
  },
  {
   "cell_type": "code",
   "execution_count": null,
   "metadata": {
    "id": "Ck2K5HjOBT8S"
   },
   "outputs": [],
   "source": [
    " %reload_ext tensorboard"
   ]
  },
  {
   "cell_type": "code",
   "execution_count": null,
   "metadata": {
    "colab": {
     "base_uri": "https://localhost:8080/",
     "height": 891
    },
    "id": "KAqbFwU-1UXR",
    "outputId": "67106a34-421a-49c6-d580-3b6b09a5e348"
   },
   "outputs": [],
   "source": [
    "import datetime\n",
    "# Create a TensorBoard callback with a separate log directory for each trial\n",
    "log_dir = \"logs/\" + datetime.datetime.now().strftime(\"%Y%m%d-%H%M%S\")\n",
    "tensorboard_callback = tf.keras.callbacks.TensorBoard(log_dir=log_dir)\n",
    "\n",
    "# Perform the hyperparameter search and save the TensorBoard logs\n",
    "tuner.search(x_train, y_train, epochs=5, validation_split=0.1, callbacks=[tensorboard_callback])\n",
    "\n",
    "# Load TensorBoard in a new tab\n",
    "%load_ext tensorboard\n",
    "%tensorboard --logdir logs"
   ]
  },
  {
   "cell_type": "code",
   "execution_count": null,
   "metadata": {
    "id": "Uedgp3MeBEil"
   },
   "outputs": [],
   "source": []
  },
  {
   "cell_type": "code",
   "execution_count": null,
   "metadata": {
    "id": "9M-wS-vZBEk7"
   },
   "outputs": [],
   "source": []
  },
  {
   "cell_type": "code",
   "execution_count": null,
   "metadata": {
    "id": "q9axo8FQBR9n"
   },
   "outputs": [],
   "source": []
  },
  {
   "cell_type": "code",
   "execution_count": null,
   "metadata": {
    "id": "im6y1XcXBEne"
   },
   "outputs": [],
   "source": []
  },
  {
   "cell_type": "code",
   "execution_count": null,
   "metadata": {
    "id": "NprhSvP-1UZ8"
   },
   "outputs": [],
   "source": []
  }
 ],
 "metadata": {
  "colab": {
   "provenance": []
  },
  "kernelspec": {
   "display_name": "Python 3 (ipykernel)",
   "language": "python",
   "name": "python3"
  },
  "language_info": {
   "codemirror_mode": {
    "name": "ipython",
    "version": 3
   },
   "file_extension": ".py",
   "mimetype": "text/x-python",
   "name": "python",
   "nbconvert_exporter": "python",
   "pygments_lexer": "ipython3",
   "version": "3.10.9"
  }
 },
 "nbformat": 4,
 "nbformat_minor": 1
}
