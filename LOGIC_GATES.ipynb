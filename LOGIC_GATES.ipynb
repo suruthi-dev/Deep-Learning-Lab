{
  "cells": [
    {
      "cell_type": "code",
      "execution_count": null,
      "metadata": {
        "id": "-jcnh-3_8scK"
      },
      "outputs": [],
      "source": [
        "import numpy as np"
      ]
    },
    {
      "cell_type": "code",
      "execution_count": null,
      "metadata": {
        "id": "LQrnbLZ78scM"
      },
      "outputs": [],
      "source": [
        "def logic_gate(w1, w2, b):\n",
        "    sigmoid = lambda x : 1/(1+np.exp(-x))\n",
        "    return lambda x1, x2: sigmoid(w1 * x1 + w2 * x2 + b)"
      ]
    },
    {
      "cell_type": "code",
      "execution_count": null,
      "metadata": {
        "id": "OW8W4Ml38scM"
      },
      "outputs": [],
      "source": [
        "def test(gate):\n",
        "    for a, b in (0, 0), (0, 1), (1, 0), (1, 1):\n",
        "        print(\"{} , {} : {}\".format(a, b, np.round(gate(a,b))))"
      ]
    },
    {
      "cell_type": "raw",
      "metadata": {
        "id": "h2j-jETh8scN"
      },
      "source": [
        "Internal Working\n",
        "\n",
        "gate = logic_gate(1,1,-0.5)\n",
        "np.round(gate(1,0))"
      ]
    },
    {
      "cell_type": "code",
      "execution_count": null,
      "metadata": {
        "colab": {
          "base_uri": "https://localhost:8080/"
        },
        "id": "eke4j50G8scN",
        "outputId": "832290e6-d721-4e96-8847-286ec1b86185"
      },
      "outputs": [
        {
          "name": "stdout",
          "output_type": "stream",
          "text": [
            "0 , 0 : 0.0\n",
            "0 , 1 : 1.0\n",
            "1 , 0 : 1.0\n",
            "1 , 1 : 1.0\n"
          ]
        }
      ],
      "source": [
        "or_gate = logic_gate(20, 20, -10)\n",
        "test(or_gate)"
      ]
    },
    {
      "cell_type": "code",
      "execution_count": null,
      "metadata": {
        "colab": {
          "base_uri": "https://localhost:8080/"
        },
        "id": "swLXvHmn8scO",
        "outputId": "b116012c-21fd-4a00-9e89-3b4b9645d8a2"
      },
      "outputs": [
        {
          "name": "stdout",
          "output_type": "stream",
          "text": [
            "0 , 0 : 0.0\n",
            "0 , 1 : 1.0\n",
            "1 , 0 : 1.0\n",
            "1 , 1 : 1.0\n"
          ]
        }
      ],
      "source": [
        "or_gate_01 = logic_gate(1,1,-0.5)\n",
        "test(or_gate_01)"
      ]
    },
    {
      "cell_type": "markdown",
      "metadata": {
        "id": "kGBWd1hO8scO"
      },
      "source": [
        "# Part-II: Implement the operations of AND, NOR and NAND gates"
      ]
    },
    {
      "cell_type": "markdown",
      "metadata": {
        "id": "K8qYptd08scP"
      },
      "source": [
        "### AND GATE"
      ]
    },
    {
      "cell_type": "code",
      "execution_count": null,
      "metadata": {
        "colab": {
          "base_uri": "https://localhost:8080/"
        },
        "id": "PBt_cIxU8scP",
        "outputId": "fe51320d-2ddb-4d2a-9554-beaf9154a1cb"
      },
      "outputs": [
        {
          "name": "stdout",
          "output_type": "stream",
          "text": [
            "AND GATE \n",
            "\n",
            "0 , 0 : 0.0\n",
            "0 , 1 : 0.0\n",
            "1 , 0 : 0.0\n",
            "1 , 1 : 1.0\n"
          ]
        }
      ],
      "source": [
        "and_gate = logic_gate(1,1,-1.5)\n",
        "print(\"AND GATE \\n\")\n",
        "test(and_gate)\n"
      ]
    },
    {
      "cell_type": "raw",
      "metadata": {
        "id": "OTuZGEZ-8scQ"
      },
      "source": [
        "    weights = {\n",
        "        'AND': np.array([0.5, 0.5]),\n",
        "        'OR': np.array([0.5, 0.5]),\n",
        "        'NOT': np.array([-1]),\n",
        "        'NAND': np.array([-0.5, -0.5]),\n",
        "        'XOR': np.array([1, 1]),\n",
        "        'NOR': np.array([-1,-1])\n",
        "\n",
        "    }\n",
        "    bias = {\n",
        "        'AND': -0.7,\n",
        "        'OR': -0.2,\n",
        "        'NOT': 0.5,\n",
        "        'NAND': 0.7,\n",
        "        'XOR': -0.5,\n",
        "        'NOR': 0.5\n",
        "    }\n"
      ]
    },
    {
      "cell_type": "markdown",
      "metadata": {
        "id": "mzp__yJR8scQ"
      },
      "source": [
        "### NAND GATE"
      ]
    },
    {
      "cell_type": "code",
      "execution_count": null,
      "metadata": {
        "colab": {
          "base_uri": "https://localhost:8080/"
        },
        "id": "Iuc1d99q8scQ",
        "outputId": "015829e9-56c8-4528-d773-e5a128c7fd2b"
      },
      "outputs": [
        {
          "name": "stdout",
          "output_type": "stream",
          "text": [
            "NAND GATE \n",
            "\n",
            "0 , 0 : 1.0\n",
            "0 , 1 : 1.0\n",
            "1 , 0 : 1.0\n",
            "1 , 1 : 0.0\n"
          ]
        }
      ],
      "source": [
        "nand_gate = logic_gate(-0.5,-0.5,0.7)\n",
        "print(\"NAND GATE \\n\")\n",
        "test(nand_gate)"
      ]
    },
    {
      "cell_type": "markdown",
      "metadata": {
        "id": "Lha0Povw8scR"
      },
      "source": [
        "### NOR GATE"
      ]
    },
    {
      "cell_type": "code",
      "execution_count": null,
      "metadata": {
        "colab": {
          "base_uri": "https://localhost:8080/"
        },
        "id": "69zQyuUD8scR",
        "outputId": "17fce047-01e4-4951-80a1-0f38709aca2e"
      },
      "outputs": [
        {
          "name": "stdout",
          "output_type": "stream",
          "text": [
            "NOR GATE \n",
            "\n",
            "0 , 0 : 1.0\n",
            "0 , 1 : 0.0\n",
            "1 , 0 : 0.0\n",
            "1 , 1 : 0.0\n"
          ]
        }
      ],
      "source": [
        "nor_gate = logic_gate(-1,-1,0.5)\n",
        "print(\"NOR GATE \\n\")\n",
        "test(nor_gate)"
      ]
    },
    {
      "cell_type": "markdown",
      "metadata": {
        "id": "cq7QEoHa8scR"
      },
      "source": [
        "\n",
        "# Part-III: Limitations of single neuron for XOR operation"
      ]
    },
    {
      "cell_type": "code",
      "execution_count": null,
      "metadata": {
        "colab": {
          "base_uri": "https://localhost:8080/"
        },
        "id": "amNVLxnj8scS",
        "outputId": "fab7dc59-09ed-4206-dc91-129bdb985cc7"
      },
      "outputs": [
        {
          "name": "stdout",
          "output_type": "stream",
          "text": [
            "0 , 0 : 0.0\n",
            "0 , 1 : 1.0\n",
            "1 , 0 : 1.0\n",
            "1 , 1 : 1.0\n"
          ]
        }
      ],
      "source": [
        "xor = logic_gate(1,1,-0.5)\n",
        "test(xor)"
      ]
    },
    {
      "cell_type": "raw",
      "metadata": {
        "id": "TNotaWmi8scS"
      },
      "source": [
        "the top neuron is\n",
        "an OR gate, and the bottom is a NAND gate. The output of these gates then\n",
        "get passed to another neuron, which is an AND gate."
      ]
    },
    {
      "cell_type": "markdown",
      "metadata": {
        "id": "RCWd1U9B8scS"
      },
      "source": [
        "# XOR Gate"
      ]
    },
    {
      "cell_type": "code",
      "execution_count": null,
      "metadata": {
        "id": "0OB5NoK68scS"
      },
      "outputs": [],
      "source": [
        "def xor(x1,x2):\n",
        "    or_val = int(x1 or x2)\n",
        "    and_val = int(not(x1 and x2))\n",
        "    xor_val = int(or_val and and_val)\n",
        "    return xor_val"
      ]
    },
    {
      "cell_type": "code",
      "execution_count": null,
      "metadata": {
        "colab": {
          "base_uri": "https://localhost:8080/"
        },
        "id": "-aWnr_jW8scS",
        "outputId": "a6f2838d-18d2-4bf8-d26b-71ab0e790f03"
      },
      "outputs": [
        {
          "name": "stdout",
          "output_type": "stream",
          "text": [
            "0 , 0 : 0\n",
            "0 , 1 : 1\n",
            "1 , 0 : 1\n",
            "1 , 1 : 0\n"
          ]
        }
      ],
      "source": [
        "test(xor)"
      ]
    },
    {
      "cell_type": "markdown",
      "metadata": {
        "id": "EgCJrlA18scT"
      },
      "source": [
        "# Part-IV: Logic Gates using Keras library"
      ]
    },
    {
      "cell_type": "code",
      "execution_count": null,
      "metadata": {
        "id": "Emf6_cfA8scT"
      },
      "outputs": [],
      "source": [
        "import tensorflow as tf\n",
        "from tensorflow.keras.models import Sequential\n",
        "from tensorflow.keras.layers import Dense"
      ]
    },
    {
      "cell_type": "code",
      "execution_count": null,
      "metadata": {
        "id": "pil5Kf5g_YfI"
      },
      "outputs": [],
      "source": [
        "# Function to create and run the model\n",
        "def run_logic_gate_model(gate_name, x_train, y_train):\n",
        "    # Create the model\n",
        "    model = Sequential()\n",
        "    model.add(Dense(16, input_dim=2, activation='relu'))\n",
        "    model.add(Dense(1, activation='sigmoid'))\n",
        "\n",
        "    # Compile the model\n",
        "    model.compile(optimizer='adam', loss='mean_squared_error', metrics=['binary_accuracy'])\n",
        "\n",
        "    # Train the model\n",
        "    model.fit(x_train, y_train, epochs=100, verbose=0)\n",
        "\n",
        "    # Predict the output values\n",
        "    predictions = model.predict(x_train)\n",
        "    predictions = np.round(predictions)\n",
        "\n",
        "    # Print the predictions\n",
        "    print(f\"{gate_name} Gate Predictions:\")\n",
        "    print(predictions.flatten().astype(int))\n",
        "    print()\n"
      ]
    },
    {
      "cell_type": "code",
      "execution_count": null,
      "metadata": {
        "colab": {
          "base_uri": "https://localhost:8080/"
        },
        "id": "J9TvRCyC81O-",
        "outputId": "da29d66f-d8d7-49f9-e582-7e7fa957b84c"
      },
      "outputs": [
        {
          "name": "stdout",
          "output_type": "stream",
          "text": [
            "1/1 [==============================] - 0s 79ms/step\n",
            "AND Gate Predictions:\n",
            "[0 0 0 1]\n",
            "\n",
            "1/1 [==============================] - 0s 60ms/step\n",
            "OR Gate Predictions:\n",
            "[1 1 1 1]\n",
            "\n",
            "1/1 [==============================] - 0s 63ms/step\n",
            "NOT Gate Predictions:\n",
            "[1 0 0 0]\n",
            "\n",
            "1/1 [==============================] - 0s 52ms/step\n",
            "NAND Gate Predictions:\n",
            "[1 1 1 0]\n",
            "\n"
          ]
        },
        {
          "name": "stderr",
          "output_type": "stream",
          "text": [
            "WARNING:tensorflow:5 out of the last 5 calls to <function Model.make_predict_function.<locals>.predict_function at 0x7fef6c4cd090> triggered tf.function retracing. Tracing is expensive and the excessive number of tracings could be due to (1) creating @tf.function repeatedly in a loop, (2) passing tensors with different shapes, (3) passing Python objects instead of tensors. For (1), please define your @tf.function outside of the loop. For (2), @tf.function has reduce_retracing=True option that can avoid unnecessary retracing. For (3), please refer to https://www.tensorflow.org/guide/function#controlling_retracing and https://www.tensorflow.org/api_docs/python/tf/function for  more details.\n"
          ]
        },
        {
          "name": "stdout",
          "output_type": "stream",
          "text": [
            "1/1 [==============================] - 0s 54ms/step\n",
            "NOR Gate Predictions:\n",
            "[0 0 0 0]\n",
            "\n"
          ]
        },
        {
          "name": "stderr",
          "output_type": "stream",
          "text": [
            "WARNING:tensorflow:6 out of the last 6 calls to <function Model.make_predict_function.<locals>.predict_function at 0x7fef6c3f55a0> triggered tf.function retracing. Tracing is expensive and the excessive number of tracings could be due to (1) creating @tf.function repeatedly in a loop, (2) passing tensors with different shapes, (3) passing Python objects instead of tensors. For (1), please define your @tf.function outside of the loop. For (2), @tf.function has reduce_retracing=True option that can avoid unnecessary retracing. For (3), please refer to https://www.tensorflow.org/guide/function#controlling_retracing and https://www.tensorflow.org/api_docs/python/tf/function for  more details.\n"
          ]
        },
        {
          "name": "stdout",
          "output_type": "stream",
          "text": [
            "1/1 [==============================] - 0s 85ms/step\n",
            "XOR Gate Predictions:\n",
            "[1 0 1 0]\n",
            "\n"
          ]
        }
      ],
      "source": [
        "\n",
        "# Input and output values for the logic gates\n",
        "input_values = np.array([[0, 0], [0, 1], [1, 0], [1, 1]])\n",
        "\n",
        "# AND gate\n",
        "and_output = np.array([0, 0, 0, 1])\n",
        "run_logic_gate_model(\"AND\", input_values, and_output)\n",
        "\n",
        "# OR gate\n",
        "or_output = np.array([0, 1, 1, 1])\n",
        "run_logic_gate_model(\"OR\", input_values, or_output)\n",
        "\n",
        "# NOT gate\n",
        "not_output = np.array([1, 0, 1, 0])\n",
        "run_logic_gate_model(\"NOT\", input_values, not_output)\n",
        "\n",
        "# NAND gate\n",
        "nand_output = np.array([1, 1, 1, 0])\n",
        "run_logic_gate_model(\"NAND\", input_values, nand_output)\n",
        "\n",
        "# NOR gate\n",
        "nor_output = np.array([1, 0, 0, 0])\n",
        "run_logic_gate_model(\"NOR\", input_values, nor_output)\n",
        "\n",
        "# XOR gate\n",
        "xor_output = np.array([0, 1, 1, 0])\n",
        "run_logic_gate_model(\"XOR\", input_values, xor_output)\n"
      ]
    }
  ],
  "metadata": {
    "colab": {
      "provenance": []
    },
    "kernelspec": {
      "display_name": "Python 3",
      "language": "python",
      "name": "python3"
    },
    "language_info": {
      "codemirror_mode": {
        "name": "ipython",
        "version": 3
      },
      "file_extension": ".py",
      "mimetype": "text/x-python",
      "name": "python",
      "nbconvert_exporter": "python",
      "pygments_lexer": "ipython3",
      "version": "3.6.4"
    }
  },
  "nbformat": 4,
  "nbformat_minor": 0
}
